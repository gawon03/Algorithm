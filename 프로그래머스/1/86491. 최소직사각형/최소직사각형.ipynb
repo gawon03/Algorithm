{
 "cells": [
  {
   "cell_type": "markdown",
   "source": [
    "### 내 풀이(개선)\n",
    "##### sizes 원소 하나씩 확인하면서 a, b중 더 큰 값을 a로 바꾸고 a값 중 최대값을 row, 작은 값인 b값 중 최소값을 col"
   ],
   "metadata": {
    "collapsed": false
   }
  },
  {
   "cell_type": "code",
   "execution_count": null,
   "outputs": [],
   "source": [
    "def solution(sizes):\n",
    "    row = 0\n",
    "    col = 0\n",
    "    for a, b in sizes:\n",
    "        if a < b:\n",
    "            a, b = b, a\n",
    "        row = max(row, a)\n",
    "        col = max(col, b)\n",
    "    return row * col"
   ],
   "metadata": {
    "collapsed": false
   }
  },
  {
   "cell_type": "markdown",
   "source": [
    "### 다른 사람 풀이\n",
    "##### sizes 원소들이 [a, b] 형태일 때, a, b 중 큰 원소들 중 가장 큰 것 * a, b 중 작은 원소들 중 가장 큰것"
   ],
   "metadata": {
    "collapsed": false
   }
  },
  {
   "cell_type": "code",
   "execution_count": null,
   "outputs": [],
   "source": [
    "def solution(sizes):\n",
    "    return max(max(x) for x in sizes) * max(min(x) for x in sizes)"
   ],
   "metadata": {
    "collapsed": false
   }
  }
 ],
 "metadata": {
  "kernelspec": {
   "display_name": "Python 3",
   "language": "python",
   "name": "python3"
  },
  "language_info": {
   "codemirror_mode": {
    "name": "ipython",
    "version": 2
   },
   "file_extension": ".py",
   "mimetype": "text/x-python",
   "name": "python",
   "nbconvert_exporter": "python",
   "pygments_lexer": "ipython2",
   "version": "2.7.6"
  }
 },
 "nbformat": 4,
 "nbformat_minor": 0
}
