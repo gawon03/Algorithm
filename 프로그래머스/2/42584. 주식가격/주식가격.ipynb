{
 "cells": [
  {
   "cell_type": "markdown",
   "source": [
    "### 내 풀이"
   ],
   "metadata": {
    "collapsed": false
   }
  },
  {
   "cell_type": "code",
   "execution_count": null,
   "outputs": [],
   "source": [
    "from collections import deque\n",
    "\n",
    "def solution(prices):\n",
    "    prices = deque(prices)\n",
    "    answer = []\n",
    "    while prices:\n",
    "        sec = 0\n",
    "        p = prices.popleft()\n",
    "        for i in prices:\n",
    "            sec += 1\n",
    "            if i < p:\n",
    "                break\n",
    "        answer.append(sec)\n",
    "    return answer"
   ],
   "metadata": {
    "collapsed": false
   }
  },
  {
   "cell_type": "markdown",
   "source": [
    "### 다른 사람 풀이\n",
    "##### 1. answer의 값을 주식의 가격이 떨어지지 않았을 경우로 초기화\n",
    "##### 2. prices를 순회하며 stack의 top의 인덱스보다 현재 price의 값이 작을 경우, pop후 answer값을 수정하는 것을 반복"
   ],
   "metadata": {
    "collapsed": false
   }
  },
  {
   "cell_type": "code",
   "execution_count": null,
   "outputs": [],
   "source": [
    "def solution(prices):\n",
    "    length = len(prices)\n",
    "\n",
    "    # answer을 max 값으로 초기화\n",
    "    answer = [ i for i in range (length - 1, -1, -1)]\n",
    "\n",
    "    # 주식 가격이 떨어질 경우 찾기\n",
    "    stack = [0]\n",
    "    for i in range (1, length, 1):\n",
    "        while stack and prices[stack[-1]] > prices[i]:\n",
    "            j = stack.pop()\n",
    "            answer[j] = i - j\n",
    "        stack.append(i)\n",
    "    return answer"
   ],
   "metadata": {
    "collapsed": false,
    "pycharm": {
     "is_executing": true
    }
   }
  }
 ],
 "metadata": {
  "kernelspec": {
   "display_name": "Python 3",
   "language": "python",
   "name": "python3"
  },
  "language_info": {
   "codemirror_mode": {
    "name": "ipython",
    "version": 2
   },
   "file_extension": ".py",
   "mimetype": "text/x-python",
   "name": "python",
   "nbconvert_exporter": "python",
   "pygments_lexer": "ipython2",
   "version": "2.7.6"
  }
 },
 "nbformat": 4,
 "nbformat_minor": 0
}
